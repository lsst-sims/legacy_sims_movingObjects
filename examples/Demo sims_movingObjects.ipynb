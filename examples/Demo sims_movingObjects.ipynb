{
 "cells": [
  {
   "cell_type": "markdown",
   "metadata": {},
   "source": [
    "### A  demonstration of sims_movingObjects ###\n",
    "\n",
    "This notebook is also available in the [sims_movingObjects](https://github.com/lsst/sims_movingObjects) github repository, in the examples directory:\n",
    "https://github.com/lsst/sims_movingObjects/blob/master/examples/Demo%20sims_movingObjects.ipynb"
   ]
  },
  {
   "cell_type": "code",
   "execution_count": 1,
   "metadata": {},
   "outputs": [],
   "source": [
    "import os\n",
    "import numpy as np\n",
    "import pandas as pd\n",
    "import matplotlib.pyplot as plt\n",
    "%matplotlib inline"
   ]
  },
  {
   "cell_type": "code",
   "execution_count": 2,
   "metadata": {},
   "outputs": [],
   "source": [
    "import lsst.sims.movingObjects as mo\n",
    "import lsst.sims.maf.db as db\n",
    "from lsst.sims.maf.batches import getColMap"
   ]
  },
  {
   "cell_type": "markdown",
   "metadata": {},
   "source": [
    "For most typical use of sims_movingObjects, you just need to use the script 'makeLSSTobs.py' :\n",
    "\n",
    "```\n",
    "(lsst-scipipe) [ewok:~] lynnej% makeLSSTobs.py --help\n",
    "\n",
    "usage: makeLSSTobs.py [-h] [--orbitFile ORBITFILE] [--outDir OUTDIR]\n",
    "                      [--obsFile OBSFILE] [--sqlConstraint SQLCONSTRAINT]\n",
    "                      [--noCamera] [--rFov RFOV]\n",
    "                      [--interpolation INTERPOLATION] [--obscode OBSCODE]\n",
    "                      [--tStep TSTEP] [--ephMode EPHMODE]\n",
    "                      opsimDb\n",
    "\n",
    "Generate moving object detections.\n",
    "\n",
    "positional arguments:\n",
    "  opsimDb               Opsim run db file\n",
    "\n",
    "optional arguments:\n",
    "  -h, --help            show this help message and exit\n",
    "  --orbitFile ORBITFILE\n",
    "                        File containing the moving object orbits.\n",
    "  --outDir OUTDIR       Output directory for moving object detections.\n",
    "  --obsFile OBSFILE     Output file name for moving object observations.\n",
    "                        Default will build outDir/opsimRun_orbitFile_obs.txt.\n",
    "  --sqlConstraint SQLCONSTRAINT\n",
    "                        SQL constraint to use to select data from opsimDb.\n",
    "                        Default no constraint.\n",
    "  --noCamera            Do not use the LSST camera footprint, use rFov\n",
    "                        instead.\n",
    "  --rFov RFOV           If not using camera footprint, use a circular FOV with\n",
    "                        radius rFOV degrees. Default 1.75 degrees.\n",
    "  --interpolation INTERPOLATION\n",
    "                        Type of interpolation between ephemerides to use.\n",
    "                        Options include linear, chebyshev, and direct (no\n",
    "                        interpolation). Default is linear.\n",
    "  --obscode OBSCODE     Obscode for generating observations with linear or\n",
    "                        direct interpolation. Default is I11 (Cerro Pachon).\n",
    "  --tStep TSTEP         Timestep between ephemeris generation / linear\n",
    "                        interpolation steps (in days). Relevant for linear\n",
    "                        interpolation only! Default 2 hours.\n",
    "  --ephMode EPHMODE     2body or nbody mode for ephemeris generation. Default\n",
    "                        is nbody.\n",
    "```\n",
    "\n",
    "This runs the steps below, as a whole, to produce an output file with the observations.\n",
    "\n",
    "\n",
    "But let's break down a little bit of what's happening behind the scenes."
   ]
  },
  {
   "cell_type": "markdown",
   "metadata": {},
   "source": [
    "### Reading the orbit file."
   ]
  },
  {
   "cell_type": "code",
   "execution_count": 3,
   "metadata": {},
   "outputs": [],
   "source": [
    "# First the orbit file - this is read into an Orbits object.\n",
    "orbitDir = '.'\n",
    "orbitfile = 'neos_100.s3m'\n",
    "\n",
    "orbits = mo.Orbits()\n",
    "orbits.readOrbits(os.path.join(orbitDir, orbitfile))"
   ]
  },
  {
   "cell_type": "code",
   "execution_count": 4,
   "metadata": {},
   "outputs": [
    {
     "name": "stdout",
     "output_type": "stream",
     "text": [
      "COM ['objId', 'q', 'e', 'inc', 'Omega', 'argPeri', 'tPeri', 'epoch', 'H', 'g', 'sed_filename']\n",
      "KEP ['objId', 'a', 'e', 'inc', 'Omega', 'argPeri', 'meanAnomaly', 'epoch', 'H', 'g', 'sed_filename']\n",
      "CART ['objId', 'x', 'y', 'z', 'xdot', 'ydot', 'zdot', 'epoch', 'H', 'g', 'sed_filename']\n"
     ]
    }
   ],
   "source": [
    "# The actual orbits are checked to see if they contain required columns: \n",
    "for orbit_type in orbits.dataCols:\n",
    "    print(orbit_type, orbits.dataCols[orbit_type])"
   ]
  },
  {
   "cell_type": "code",
   "execution_count": 5,
   "metadata": {},
   "outputs": [
    {
     "name": "stdout",
     "output_type": "stream",
     "text": [
      "Help on method assignSed in module lsst.sims.movingObjects.orbits:\n",
      "\n",
      "assignSed(orbits, randomSeed=None) method of lsst.sims.movingObjects.orbits.Orbits instance\n",
      "    Assign either a C or S type SED, depending on the semi-major axis of the object.\n",
      "    P(C type) = 0 (a<2); 0.5*a - 1 (2<a<4); 1 (a > 4),\n",
      "    based on figure 23 from Ivezic et al 2001 (AJ, 122, 2749).\n",
      "    \n",
      "    Parameters\n",
      "    ----------\n",
      "    orbits : pandas.DataFrame, pandas.Series or numpy.ndarray\n",
      "       Array-like object containing orbital parameter information.\n",
      "    \n",
      "    Returns\n",
      "    -------\n",
      "    numpy.ndarray\n",
      "        Array containing the SED type for each object in 'orbits'.\n",
      "\n"
     ]
    }
   ],
   "source": [
    "# and if 'standard but not quite the same' orbit column names are used, \n",
    "# the column names are swapped to these standard names. \n",
    "\n",
    "# Note that columns 'objId' = anything (including strings), and columns H / g / sed_filename are not required.\n",
    "# If H is not specified, the value of 20 will be used\n",
    "# If g is not specified, the value of 0.15 will be used\n",
    "# If sed_filename is not specified (it should match a filename in $SIMS_MOVINGOBJECTS_DIR/data), one will be assigned.\n",
    "\n",
    "help(orbits.assignSed)"
   ]
  },
  {
   "cell_type": "code",
   "execution_count": 7,
   "metadata": {},
   "outputs": [
    {
     "data": {
      "text/html": [
       "<div>\n",
       "<style scoped>\n",
       "    .dataframe tbody tr th:only-of-type {\n",
       "        vertical-align: middle;\n",
       "    }\n",
       "\n",
       "    .dataframe tbody tr th {\n",
       "        vertical-align: top;\n",
       "    }\n",
       "\n",
       "    .dataframe thead th {\n",
       "        text-align: right;\n",
       "    }\n",
       "</style>\n",
       "<table border=\"1\" class=\"dataframe\">\n",
       "  <thead>\n",
       "    <tr style=\"text-align: right;\">\n",
       "      <th></th>\n",
       "      <th>objId</th>\n",
       "      <th>otype</th>\n",
       "      <th>q</th>\n",
       "      <th>e</th>\n",
       "      <th>inc</th>\n",
       "      <th>Omega</th>\n",
       "      <th>argPeri</th>\n",
       "      <th>tPeri</th>\n",
       "      <th>H</th>\n",
       "      <th>g</th>\n",
       "      <th>epoch</th>\n",
       "      <th>model</th>\n",
       "      <th>sed_filename</th>\n",
       "    </tr>\n",
       "  </thead>\n",
       "  <tbody>\n",
       "    <tr>\n",
       "      <th>0</th>\n",
       "      <td>S1000000</td>\n",
       "      <td>S3M</td>\n",
       "      <td>3.01822</td>\n",
       "      <td>0.05208</td>\n",
       "      <td>22.56035</td>\n",
       "      <td>211.00286</td>\n",
       "      <td>335.42134</td>\n",
       "      <td>57801.64493</td>\n",
       "      <td>14.20</td>\n",
       "      <td>0.15</td>\n",
       "      <td>57231.0</td>\n",
       "      <td>V150728</td>\n",
       "      <td>C.dat</td>\n",
       "    </tr>\n",
       "    <tr>\n",
       "      <th>1</th>\n",
       "      <td>S1000001</td>\n",
       "      <td>S3M</td>\n",
       "      <td>2.10974</td>\n",
       "      <td>0.07518</td>\n",
       "      <td>4.91571</td>\n",
       "      <td>209.40298</td>\n",
       "      <td>322.66447</td>\n",
       "      <td>56722.78779</td>\n",
       "      <td>20.57</td>\n",
       "      <td>0.15</td>\n",
       "      <td>57231.0</td>\n",
       "      <td>V150728</td>\n",
       "      <td>S.dat</td>\n",
       "    </tr>\n",
       "    <tr>\n",
       "      <th>2</th>\n",
       "      <td>S1000002</td>\n",
       "      <td>S3M</td>\n",
       "      <td>2.80523</td>\n",
       "      <td>0.07777</td>\n",
       "      <td>1.24945</td>\n",
       "      <td>112.52284</td>\n",
       "      <td>139.86858</td>\n",
       "      <td>56406.44304</td>\n",
       "      <td>14.65</td>\n",
       "      <td>0.15</td>\n",
       "      <td>57231.0</td>\n",
       "      <td>V150728</td>\n",
       "      <td>C.dat</td>\n",
       "    </tr>\n",
       "    <tr>\n",
       "      <th>3</th>\n",
       "      <td>S1000003</td>\n",
       "      <td>S3M</td>\n",
       "      <td>2.10917</td>\n",
       "      <td>0.13219</td>\n",
       "      <td>1.46615</td>\n",
       "      <td>266.54621</td>\n",
       "      <td>232.24412</td>\n",
       "      <td>56980.11676</td>\n",
       "      <td>19.58</td>\n",
       "      <td>0.15</td>\n",
       "      <td>57231.0</td>\n",
       "      <td>V150728</td>\n",
       "      <td>C.dat</td>\n",
       "    </tr>\n",
       "    <tr>\n",
       "      <th>4</th>\n",
       "      <td>S1000004</td>\n",
       "      <td>S3M</td>\n",
       "      <td>2.17676</td>\n",
       "      <td>0.19949</td>\n",
       "      <td>12.92422</td>\n",
       "      <td>162.14580</td>\n",
       "      <td>192.22312</td>\n",
       "      <td>56808.90252</td>\n",
       "      <td>10.56</td>\n",
       "      <td>0.15</td>\n",
       "      <td>57231.0</td>\n",
       "      <td>V150728</td>\n",
       "      <td>S.dat</td>\n",
       "    </tr>\n",
       "  </tbody>\n",
       "</table>\n",
       "</div>"
      ],
      "text/plain": [
       "      objId otype        q        e       inc      Omega    argPeri  \\\n",
       "0  S1000000   S3M  3.01822  0.05208  22.56035  211.00286  335.42134   \n",
       "1  S1000001   S3M  2.10974  0.07518   4.91571  209.40298  322.66447   \n",
       "2  S1000002   S3M  2.80523  0.07777   1.24945  112.52284  139.86858   \n",
       "3  S1000003   S3M  2.10917  0.13219   1.46615  266.54621  232.24412   \n",
       "4  S1000004   S3M  2.17676  0.19949  12.92422  162.14580  192.22312   \n",
       "\n",
       "         tPeri      H     g    epoch    model sed_filename  \n",
       "0  57801.64493  14.20  0.15  57231.0  V150728        C.dat  \n",
       "1  56722.78779  20.57  0.15  57231.0  V150728        S.dat  \n",
       "2  56406.44304  14.65  0.15  57231.0  V150728        C.dat  \n",
       "3  56980.11676  19.58  0.15  57231.0  V150728        C.dat  \n",
       "4  56808.90252  10.56  0.15  57231.0  V150728        S.dat  "
      ]
     },
     "execution_count": 7,
     "metadata": {},
     "output_type": "execute_result"
    }
   ],
   "source": [
    "# The final orbit data is kept in a class attribute: orbits:  \n",
    "# note that additional data in the orbit file (such as otype) is retained.\n",
    "orbits.orbits[0:5]"
   ]
  },
  {
   "cell_type": "markdown",
   "metadata": {},
   "source": [
    "### Connecting to (and reading from) the opsim data file."
   ]
  },
  {
   "cell_type": "code",
   "execution_count": 8,
   "metadata": {},
   "outputs": [],
   "source": [
    "# Look at the MAF documentation for more information on the lsst.sims.maf.db.OpsimDatabase class and methods.\n",
    "opsimDir = '/Users/lynnej/opsim/db'\n",
    "opsimrun = 'baseline2018b'\n",
    "opsdb = db.OpsimDatabase(os.path.join(opsimDir, opsimrun + '.db'))\n",
    "colmap = getColMap(opsdb)"
   ]
  },
  {
   "cell_type": "code",
   "execution_count": 9,
   "metadata": {},
   "outputs": [
    {
     "name": "stdout",
     "output_type": "stream",
     "text": [
      "['observationStartMJD', 'night', 'fieldRA', 'fieldDec', 'rotSkyPos', 'filter', 'visitExposureTime', 'seeingFwhmEff', 'seeingFwhmGeom', 'fiveSigmaDepth', 'solarElong']\n"
     ]
    }
   ],
   "source": [
    "# Basically, we will just read all of these requested columns from the database: (for now we'll stick to night < 100)\n",
    "reqcols = [colmap['mjd'], colmap['night'], colmap['ra'], colmap['dec'],\n",
    "               'rotSkyPos', colmap['filter'], colmap['exptime'], colmap['seeingEff'],\n",
    "               colmap['seeingGeom'], colmap['fiveSigmaDepth'], 'solarElong']\n",
    "degreesIn = colmap['raDecDeg']\n",
    "print(reqcols)"
   ]
  },
  {
   "cell_type": "code",
   "execution_count": 10,
   "metadata": {},
   "outputs": [],
   "source": [
    "simdata = opsdb.fetchMetricData(reqcols, sqlconstraint='night < 100')"
   ]
  },
  {
   "cell_type": "code",
   "execution_count": 11,
   "metadata": {},
   "outputs": [],
   "source": [
    "# For now, we apply a bit of a hack fix to standardize some column names:\n",
    "simdata = mo.fixObsData(simdata, degreesIn=degreesIn)"
   ]
  },
  {
   "cell_type": "code",
   "execution_count": 12,
   "metadata": {},
   "outputs": [
    {
     "data": {
      "text/html": [
       "<div>\n",
       "<style scoped>\n",
       "    .dataframe tbody tr th:only-of-type {\n",
       "        vertical-align: middle;\n",
       "    }\n",
       "\n",
       "    .dataframe tbody tr th {\n",
       "        vertical-align: top;\n",
       "    }\n",
       "\n",
       "    .dataframe thead th {\n",
       "        text-align: right;\n",
       "    }\n",
       "</style>\n",
       "<table border=\"1\" class=\"dataframe\">\n",
       "  <thead>\n",
       "    <tr style=\"text-align: right;\">\n",
       "      <th></th>\n",
       "      <th>observationStartMJD</th>\n",
       "      <th>night</th>\n",
       "      <th>fieldRA</th>\n",
       "      <th>fieldDec</th>\n",
       "      <th>rotSkyPos</th>\n",
       "      <th>filter</th>\n",
       "      <th>visitExposureTime</th>\n",
       "      <th>seeingFwhmEff</th>\n",
       "      <th>seeingFwhmGeom</th>\n",
       "      <th>fiveSigmaDepth</th>\n",
       "      <th>solarElong</th>\n",
       "      <th>ra</th>\n",
       "      <th>dec</th>\n",
       "    </tr>\n",
       "  </thead>\n",
       "  <tbody>\n",
       "    <tr>\n",
       "      <th>0</th>\n",
       "      <td>59853.016794</td>\n",
       "      <td>1</td>\n",
       "      <td>305.088793</td>\n",
       "      <td>-24.889283</td>\n",
       "      <td>180.000000</td>\n",
       "      <td>z</td>\n",
       "      <td>30.0</td>\n",
       "      <td>0.692029</td>\n",
       "      <td>0.620848</td>\n",
       "      <td>23.348066</td>\n",
       "      <td>113.652908</td>\n",
       "      <td>305.088793</td>\n",
       "      <td>-24.889283</td>\n",
       "    </tr>\n",
       "    <tr>\n",
       "      <th>1</th>\n",
       "      <td>59853.018021</td>\n",
       "      <td>1</td>\n",
       "      <td>304.770694</td>\n",
       "      <td>35.966846</td>\n",
       "      <td>180.786087</td>\n",
       "      <td>z</td>\n",
       "      <td>30.0</td>\n",
       "      <td>1.182104</td>\n",
       "      <td>1.023690</td>\n",
       "      <td>22.308947</td>\n",
       "      <td>113.957998</td>\n",
       "      <td>304.770694</td>\n",
       "      <td>35.966846</td>\n",
       "    </tr>\n",
       "    <tr>\n",
       "      <th>2</th>\n",
       "      <td>59853.020185</td>\n",
       "      <td>1</td>\n",
       "      <td>305.482200</td>\n",
       "      <td>-62.802603</td>\n",
       "      <td>181.134222</td>\n",
       "      <td>z</td>\n",
       "      <td>30.0</td>\n",
       "      <td>0.766303</td>\n",
       "      <td>0.681901</td>\n",
       "      <td>23.178827</td>\n",
       "      <td>99.684211</td>\n",
       "      <td>305.482200</td>\n",
       "      <td>-62.802603</td>\n",
       "    </tr>\n",
       "  </tbody>\n",
       "</table>\n",
       "</div>"
      ],
      "text/plain": [
       "   observationStartMJD  night     fieldRA   fieldDec   rotSkyPos filter  \\\n",
       "0         59853.016794      1  305.088793 -24.889283  180.000000      z   \n",
       "1         59853.018021      1  304.770694  35.966846  180.786087      z   \n",
       "2         59853.020185      1  305.482200 -62.802603  181.134222      z   \n",
       "\n",
       "   visitExposureTime  seeingFwhmEff  seeingFwhmGeom  fiveSigmaDepth  \\\n",
       "0               30.0       0.692029        0.620848       23.348066   \n",
       "1               30.0       1.182104        1.023690       22.308947   \n",
       "2               30.0       0.766303        0.681901       23.178827   \n",
       "\n",
       "   solarElong          ra        dec  \n",
       "0  113.652908  305.088793 -24.889283  \n",
       "1  113.957998  304.770694  35.966846  \n",
       "2   99.684211  305.482200 -62.802603  "
      ]
     },
     "execution_count": 12,
     "metadata": {},
     "output_type": "execute_result"
    }
   ],
   "source": [
    "# Simdata is a numpy recarray - let's just use pandas to make it easier to read here.\n",
    "pd.DataFrame(simdata[0:3])"
   ]
  },
  {
   "cell_type": "markdown",
   "metadata": {},
   "source": [
    "### Generating observations. \n",
    "\n",
    "There is more than one way to actually generate observations, but for now let's look at the linear interpolation approach (what I'd recommend at the moment). This is implemented in the class \"LinearObs\", which provides higher level methods that basically do the following: \n",
    "\n",
    "With LinearObs generating observations for each object goes as follows:  \n",
    "* generate ephemerides between the start and end of the survey data, on stepsizes of tStep (typically, 2 hours)\n",
    "* make linear interpolations between each of these steps, for every parameter returned by the ephemeris generation\n",
    "* calculate the distance between the location of the object and the field pointing, for each observation\n",
    "* if the distance is less than the specified 'rFov': count this observation as \"observed\" (if using the camera footprint, then the detailed camera footprint is overlaid for observations, and only objects which actually lie on active silicon are counted as \"observed\")\n",
    "* for the pointings where the object was observed, then calculate trailing losses and write the output to disk (including a color term, appropriate for the filter of each observation).\n",
    "\n",
    "(Note: there's plenty of room to improve on the procedure above, which could both speed things up and improve accuracy .. if this is something you're interested in contributing to, please consider writing a new Obs class, preferably inheriting from the BaseObs class).\n"
   ]
  },
  {
   "cell_type": "code",
   "execution_count": 13,
   "metadata": {},
   "outputs": [],
   "source": [
    "# Using the \"LinearObs\" class.\n",
    "usecamerafootprint = False\n",
    "if usecamerafootprint:\n",
    "    # Use the actual camera footprint.\n",
    "    cameraFootprint = mo.LsstCameraFootprint()\n",
    "else:\n",
    "    # Or not (just use a circular fov)\n",
    "    cameraFootprint = None\n",
    "rFov = 1.75  # in degrees\n",
    "obscode = 'I11'\n",
    "ephMode = 'nbody' # nbody or 2body\n",
    "obs = mo.LinearObs(cameraFootprint=cameraFootprint, rFov=rFov, obscode=obscode, timescale='TAI', ephMode=ephMode, \n",
    "                   timeCol=colmap['mjd'], seeingCol=colmap['seeingGeom'], visitExpTimeCol=colmap['exptime'])"
   ]
  },
  {
   "cell_type": "code",
   "execution_count": 14,
   "metadata": {},
   "outputs": [
    {
     "data": {
      "text/plain": [
       "{'C.dat': {'g': 0.28041793225569478,\n",
       "  'i': -0.2926196728132453,\n",
       "  'r': -0.177293845688272,\n",
       "  'u': 1.5442111906705982,\n",
       "  'y': -0.3028771664514025,\n",
       "  'z': -0.29808899160965296},\n",
       " 'S.dat': {'g': 0.36850606460945201,\n",
       "  'i': -0.45720772665728049,\n",
       "  'r': -0.26270911487248227,\n",
       "  'u': 1.8626393418302385,\n",
       "  'y': -0.4073469917610737,\n",
       "  'z': -0.39986031775197262}}"
      ]
     },
     "execution_count": 14,
     "metadata": {},
     "output_type": "execute_result"
    }
   ],
   "source": [
    "# Set the orbits.\n",
    "obs.setOrbits(orbits)\n",
    "# Read the filter curves (to calculate the colors for each object)\n",
    "filterlist = np.unique(simdata[colmap['filter']])\n",
    "obs.readFilters(filterlist=filterlist)\n",
    "# Calculate all colors ahead of time - this is just to create a dictionary early.\n",
    "sednames = np.unique(obs.orbits.orbits['sed_filename'])\n",
    "for sedname in sednames:\n",
    "    obs.calcColors(sedname)\n",
    "# Want to see the lsst colors?  (these are all x-V band colors)\n",
    "obs.colors"
   ]
  },
  {
   "cell_type": "code",
   "execution_count": 15,
   "metadata": {},
   "outputs": [
    {
     "name": "stdout",
     "output_type": "stream",
     "text": [
      "Will write output to baseline2018b_neos_100_obs.txt\n",
      "Generating ephemerides on a grid of 0.083333 day timesteps, then will extrapolate to opsim times.\n"
     ]
    }
   ],
   "source": [
    "# %%timeit -- a test run of this with 1999 TNOs and 100 nights (63472 visits) from baseline2018b.db == \n",
    "#   11min 36s ± 8.54 s per loop (mean ± std. dev. of 7 runs, 1 loop each)\n",
    "# Generate the actual observations (using the linear interpolations) and write to output file.\n",
    "tstep = 2.0 / 24.0  # tstep in units of days\n",
    "obsFile = '_'.join([opsimrun, orbitfile.replace('.des', '').replace('.s3m', ''), 'obs.txt'])\n",
    "print('Will write output to %s' % obsFile)\n",
    "obs.run(simdata, obsFile, tstep=tstep)"
   ]
  },
  {
   "cell_type": "code",
   "execution_count": 16,
   "metadata": {},
   "outputs": [
    {
     "name": "stdout",
     "output_type": "stream",
     "text": [
      "objId geo_dist ra dec magV dradt ddecdt velocity phase solarelon helio_dist h_lon h_lat true_anomaly time observationStartMJD night fieldRA fieldDec rotSkyPos filter visitExposureTime seeingFwhmEff seeingFwhmGeom fiveSigmaDepth solarElong ra dec magFilter dmagColor dmagTrail dmagDetect \r\n",
      "S1000001 1.5521554328 335.661569024 -4.66871691471 24.2367756326 -0.127241661894 -0.099168763745 0.161322698427 12.9028713254 146.840867277 2.45213370101 348.541969668 3.21849975573 176.458817876 59854.0760648 59854.0760648 2 335.151362 -5.689996 228.530394116 y 30.0 0.829128431145 0.733543570401 22.0670183628 145.792553804 335.151362 -5.689996 23.8294286408 -0.407346991761 0.0231607239649 0.0169491317618 \r\n",
      "S1000001 1.55221035527 335.660588787 -4.66947882752 24.2369589087 -0.127297535485 -0.0991198719151 0.161336637608 12.9058864785 146.832227523 2.45213410577 348.543863385 3.21837682325 176.460699779 59854.0837384 59854.0837384 2 336.65378 -3.317561 242.063032863 y 30.0 0.777920585724 0.691450721465 22.1231996044 147.792759026 336.65378 -3.317561 23.829611917 -0.407346991761 0.0256328433914 0.0190409536361 \r\n"
     ]
    }
   ],
   "source": [
    "# This is what the output file looks like:\n",
    "!head -3 $obsFile"
   ]
  },
  {
   "cell_type": "code",
   "execution_count": null,
   "metadata": {},
   "outputs": [],
   "source": []
  }
 ],
 "metadata": {
  "kernelspec": {
   "display_name": "Python 3",
   "language": "python",
   "name": "python3"
  },
  "language_info": {
   "codemirror_mode": {
    "name": "ipython",
    "version": 3
   },
   "file_extension": ".py",
   "mimetype": "text/x-python",
   "name": "python",
   "nbconvert_exporter": "python",
   "pygments_lexer": "ipython3",
   "version": "3.6.6"
  }
 },
 "nbformat": 4,
 "nbformat_minor": 2
}
