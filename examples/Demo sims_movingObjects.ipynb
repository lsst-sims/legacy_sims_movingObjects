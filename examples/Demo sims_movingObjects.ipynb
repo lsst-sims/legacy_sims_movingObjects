{
 "cells": [
  {
   "cell_type": "markdown",
   "metadata": {},
   "source": [
    "### A  demonstration of sims_movingObjects ###"
   ]
  },
  {
   "cell_type": "code",
   "execution_count": 1,
   "metadata": {},
   "outputs": [],
   "source": [
    "import os\n",
    "import numpy as np\n",
    "import pandas as pd\n",
    "import matplotlib.pyplot as plt\n",
    "%matplotlib inline"
   ]
  },
  {
   "cell_type": "code",
   "execution_count": 2,
   "metadata": {},
   "outputs": [],
   "source": [
    "import lsst.sims.movingObjects as mo\n",
    "import lsst.sims.maf.db as db\n",
    "from lsst.sims.maf.batches import getColMap"
   ]
  },
  {
   "cell_type": "markdown",
   "metadata": {},
   "source": [
    "For most typical use of sims_movingObjects, you just need to use the script 'makeLSSTobs.py' :\n",
    "\n",
    "```\n",
    "(lsst-scipipe) [ewok:~] lynnej% makeLSSTobs.py --help\n",
    "\n",
    "usage: makeLSSTobs.py [-h] [--orbitFile ORBITFILE] [--outDir OUTDIR]\n",
    "                      [--obsFile OBSFILE] [--sqlConstraint SQLCONSTRAINT]\n",
    "                      [--noCamera] [--rFov RFOV]\n",
    "                      [--interpolation INTERPOLATION] [--obscode OBSCODE]\n",
    "                      [--tStep TSTEP] [--ephMode EPHMODE]\n",
    "                      opsimDb\n",
    "\n",
    "Generate moving object detections.\n",
    "\n",
    "positional arguments:\n",
    "  opsimDb               Opsim run db file\n",
    "\n",
    "optional arguments:\n",
    "  -h, --help            show this help message and exit\n",
    "  --orbitFile ORBITFILE\n",
    "                        File containing the moving object orbits.\n",
    "  --outDir OUTDIR       Output directory for moving object detections.\n",
    "  --obsFile OBSFILE     Output file name for moving object observations.\n",
    "                        Default will build outDir/opsimRun_orbitFile_obs.txt.\n",
    "  --sqlConstraint SQLCONSTRAINT\n",
    "                        SQL constraint to use to select data from opsimDb.\n",
    "                        Default no constraint.\n",
    "  --noCamera            Do not use the LSST camera footprint, use rFov\n",
    "                        instead.\n",
    "  --rFov RFOV           If not using camera footprint, use a circular FOV with\n",
    "                        radius rFOV degrees. Default 1.75 degrees.\n",
    "  --interpolation INTERPOLATION\n",
    "                        Type of interpolation between ephemerides to use.\n",
    "                        Options include linear, chebyshev, and direct (no\n",
    "                        interpolation). Default is linear.\n",
    "  --obscode OBSCODE     Obscode for generating observations with linear or\n",
    "                        direct interpolation. Default is I11 (Cerro Pachon).\n",
    "  --tStep TSTEP         Timestep between ephemeris generation / linear\n",
    "                        interpolation steps (in days). Relevant for linear\n",
    "                        interpolation only! Default 2 hours.\n",
    "  --ephMode EPHMODE     2body or nbody mode for ephemeris generation. Default\n",
    "                        is nbody.\n",
    "```\n",
    "\n",
    "This runs the steps below, as a whole, to produce an output file with the observations.\n",
    "\n",
    "\n",
    "But let's break down a little bit of what's happening behind the scenes."
   ]
  },
  {
   "cell_type": "markdown",
   "metadata": {},
   "source": [
    "### Reading the orbit file."
   ]
  },
  {
   "cell_type": "code",
   "execution_count": 5,
   "metadata": {},
   "outputs": [],
   "source": [
    "# First the orbit file - this is read into an Orbits object.\n",
    "orbitDir = '.'\n",
    "orbitfile = 'neos_100.s3m'\n",
    "\n",
    "orbits = mo.Orbits()\n",
    "orbits.readOrbits(os.path.join(orbitDir, orbitfile))"
   ]
  },
  {
   "cell_type": "code",
   "execution_count": 4,
   "metadata": {},
   "outputs": [
    {
     "name": "stdout",
     "output_type": "stream",
     "text": [
      "COM ['objId', 'q', 'e', 'inc', 'Omega', 'argPeri', 'tPeri', 'epoch', 'H', 'g', 'sed_filename']\n",
      "KEP ['objId', 'a', 'e', 'inc', 'Omega', 'argPeri', 'meanAnomaly', 'epoch', 'H', 'g', 'sed_filename']\n",
      "CART ['objId', 'x', 'y', 'z', 'xdot', 'ydot', 'zdot', 'epoch', 'H', 'g', 'sed_filename']\n"
     ]
    }
   ],
   "source": [
    "# The actual orbits are checked to see if they contain required columns: \n",
    "for orbit_type in orbits.dataCols:\n",
    "    print(orbit_type, orbits.dataCols[orbit_type])"
   ]
  },
  {
   "cell_type": "code",
   "execution_count": 5,
   "metadata": {},
   "outputs": [
    {
     "name": "stdout",
     "output_type": "stream",
     "text": [
      "Help on method assignSed in module lsst.sims.movingObjects.orbits:\n",
      "\n",
      "assignSed(orbits, randomSeed=None) method of lsst.sims.movingObjects.orbits.Orbits instance\n",
      "    Assign either a C or S type SED, depending on the semi-major axis of the object.\n",
      "    P(C type) = 0 (a<2); 0.5*a - 1 (2<a<4); 1 (a > 4),\n",
      "    based on figure 23 from Ivezic et al 2001 (AJ, 122, 2749).\n",
      "    \n",
      "    Parameters\n",
      "    ----------\n",
      "    orbits : pandas.DataFrame, pandas.Series or numpy.ndarray\n",
      "       Array-like object containing orbital parameter information.\n",
      "    \n",
      "    Returns\n",
      "    -------\n",
      "    numpy.ndarray\n",
      "        Array containing the SED type for each object in 'orbits'.\n",
      "\n"
     ]
    }
   ],
   "source": [
    "# and if 'standard but not quite the same' orbit column names are used, \n",
    "# the column names are swapped to these standard names. \n",
    "\n",
    "# Note that columns 'objId' = anything (including strings), and columns H / g / sed_filename are not required.\n",
    "# If H is not specified, the value of 20 will be used\n",
    "# If g is not specified, the value of 0.15 will be used\n",
    "# If sed_filename is not specified (it should match a filename in $SIMS_MOVINGOBJECTS_DIR/data), one will be assigned.\n",
    "\n",
    "help(orbits.assignSed)"
   ]
  },
  {
   "cell_type": "code",
   "execution_count": 6,
   "metadata": {},
   "outputs": [
    {
     "data": {
      "text/html": [
       "<div>\n",
       "<style scoped>\n",
       "    .dataframe tbody tr th:only-of-type {\n",
       "        vertical-align: middle;\n",
       "    }\n",
       "\n",
       "    .dataframe tbody tr th {\n",
       "        vertical-align: top;\n",
       "    }\n",
       "\n",
       "    .dataframe thead th {\n",
       "        text-align: right;\n",
       "    }\n",
       "</style>\n",
       "<table border=\"1\" class=\"dataframe\">\n",
       "  <thead>\n",
       "    <tr style=\"text-align: right;\">\n",
       "      <th></th>\n",
       "      <th>objId</th>\n",
       "      <th>q</th>\n",
       "      <th>e</th>\n",
       "      <th>inc</th>\n",
       "      <th>Omega</th>\n",
       "      <th>argPeri</th>\n",
       "      <th>tPeri</th>\n",
       "      <th>H</th>\n",
       "      <th>epoch</th>\n",
       "      <th>g</th>\n",
       "      <th>sed_filename</th>\n",
       "    </tr>\n",
       "  </thead>\n",
       "  <tbody>\n",
       "    <tr>\n",
       "      <th>0</th>\n",
       "      <td>268897</td>\n",
       "      <td>2.834701</td>\n",
       "      <td>0.072095</td>\n",
       "      <td>15.926504</td>\n",
       "      <td>201.235164</td>\n",
       "      <td>212.481923</td>\n",
       "      <td>49028.823425</td>\n",
       "      <td>18.674</td>\n",
       "      <td>49353.160697</td>\n",
       "      <td>0.15</td>\n",
       "      <td>C.dat</td>\n",
       "    </tr>\n",
       "    <tr>\n",
       "      <th>1</th>\n",
       "      <td>268898</td>\n",
       "      <td>2.638647</td>\n",
       "      <td>0.168753</td>\n",
       "      <td>28.220880</td>\n",
       "      <td>137.114088</td>\n",
       "      <td>357.487466</td>\n",
       "      <td>49799.727938</td>\n",
       "      <td>20.761</td>\n",
       "      <td>49353.160697</td>\n",
       "      <td>0.15</td>\n",
       "      <td>S.dat</td>\n",
       "    </tr>\n",
       "    <tr>\n",
       "      <th>2</th>\n",
       "      <td>268899</td>\n",
       "      <td>1.772126</td>\n",
       "      <td>0.243933</td>\n",
       "      <td>21.180907</td>\n",
       "      <td>337.731210</td>\n",
       "      <td>254.147555</td>\n",
       "      <td>49227.454545</td>\n",
       "      <td>22.398</td>\n",
       "      <td>49353.160697</td>\n",
       "      <td>0.15</td>\n",
       "      <td>S.dat</td>\n",
       "    </tr>\n",
       "    <tr>\n",
       "      <th>3</th>\n",
       "      <td>268900</td>\n",
       "      <td>2.957352</td>\n",
       "      <td>0.116046</td>\n",
       "      <td>13.981384</td>\n",
       "      <td>105.319550</td>\n",
       "      <td>206.795452</td>\n",
       "      <td>49336.140572</td>\n",
       "      <td>16.995</td>\n",
       "      <td>49353.160697</td>\n",
       "      <td>0.15</td>\n",
       "      <td>C.dat</td>\n",
       "    </tr>\n",
       "    <tr>\n",
       "      <th>4</th>\n",
       "      <td>268901</td>\n",
       "      <td>2.909451</td>\n",
       "      <td>0.138365</td>\n",
       "      <td>22.418287</td>\n",
       "      <td>113.019746</td>\n",
       "      <td>254.782320</td>\n",
       "      <td>50138.141770</td>\n",
       "      <td>18.258</td>\n",
       "      <td>49353.160697</td>\n",
       "      <td>0.15</td>\n",
       "      <td>S.dat</td>\n",
       "    </tr>\n",
       "  </tbody>\n",
       "</table>\n",
       "</div>"
      ],
      "text/plain": [
       "    objId         q         e        inc       Omega     argPeri  \\\n",
       "0  268897  2.834701  0.072095  15.926504  201.235164  212.481923   \n",
       "1  268898  2.638647  0.168753  28.220880  137.114088  357.487466   \n",
       "2  268899  1.772126  0.243933  21.180907  337.731210  254.147555   \n",
       "3  268900  2.957352  0.116046  13.981384  105.319550  206.795452   \n",
       "4  268901  2.909451  0.138365  22.418287  113.019746  254.782320   \n",
       "\n",
       "          tPeri       H         epoch     g sed_filename  \n",
       "0  49028.823425  18.674  49353.160697  0.15        C.dat  \n",
       "1  49799.727938  20.761  49353.160697  0.15        S.dat  \n",
       "2  49227.454545  22.398  49353.160697  0.15        S.dat  \n",
       "3  49336.140572  16.995  49353.160697  0.15        C.dat  \n",
       "4  50138.141770  18.258  49353.160697  0.15        S.dat  "
      ]
     },
     "execution_count": 6,
     "metadata": {},
     "output_type": "execute_result"
    }
   ],
   "source": [
    "# The final orbit data is kept in a class attribute: orbits:\n",
    "orbits.orbits[0:5]"
   ]
  },
  {
   "cell_type": "markdown",
   "metadata": {},
   "source": [
    "### Connecting to (and reading from) the opsim data file."
   ]
  },
  {
   "cell_type": "code",
   "execution_count": 7,
   "metadata": {},
   "outputs": [],
   "source": [
    "# Look at the MAF documentation for more information on the lsst.sims.maf.db.OpsimDatabase class and methods.\n",
    "opsimrun = 'baseline2018b'\n",
    "opsdb = db.OpsimDatabase(os.path.join('db', opsimrun + '.db'))\n",
    "colmap = getColMap(opsdb)"
   ]
  },
  {
   "cell_type": "code",
   "execution_count": 8,
   "metadata": {},
   "outputs": [
    {
     "name": "stdout",
     "output_type": "stream",
     "text": [
      "['observationStartMJD', 'night', 'fieldRA', 'fieldDec', 'rotSkyPos', 'filter', 'visitExposureTime', 'seeingFwhmEff', 'seeingFwhmGeom', 'fiveSigmaDepth', 'solarElong']\n"
     ]
    }
   ],
   "source": [
    "# Basically, we will just read all of these requested columns from the database: (for now we'll stick to night < 100)\n",
    "reqcols = [colmap['mjd'], colmap['night'], colmap['ra'], colmap['dec'],\n",
    "               'rotSkyPos', colmap['filter'], colmap['exptime'], colmap['seeingEff'],\n",
    "               colmap['seeingGeom'], colmap['fiveSigmaDepth'], 'solarElong']\n",
    "degreesIn = colmap['raDecDeg']\n",
    "print(reqcols)"
   ]
  },
  {
   "cell_type": "code",
   "execution_count": 9,
   "metadata": {},
   "outputs": [],
   "source": [
    "simdata = opsdb.fetchMetricData(reqcols, sqlconstraint='night < 100')"
   ]
  },
  {
   "cell_type": "code",
   "execution_count": 10,
   "metadata": {},
   "outputs": [],
   "source": [
    "# For now, we apply a bit of a hack fix to standardize some column names:\n",
    "simdata = mo.fixObsData(simdata, degreesIn=degreesIn)"
   ]
  },
  {
   "cell_type": "code",
   "execution_count": 11,
   "metadata": {},
   "outputs": [
    {
     "data": {
      "text/html": [
       "<div>\n",
       "<style scoped>\n",
       "    .dataframe tbody tr th:only-of-type {\n",
       "        vertical-align: middle;\n",
       "    }\n",
       "\n",
       "    .dataframe tbody tr th {\n",
       "        vertical-align: top;\n",
       "    }\n",
       "\n",
       "    .dataframe thead th {\n",
       "        text-align: right;\n",
       "    }\n",
       "</style>\n",
       "<table border=\"1\" class=\"dataframe\">\n",
       "  <thead>\n",
       "    <tr style=\"text-align: right;\">\n",
       "      <th></th>\n",
       "      <th>observationStartMJD</th>\n",
       "      <th>night</th>\n",
       "      <th>fieldRA</th>\n",
       "      <th>fieldDec</th>\n",
       "      <th>rotSkyPos</th>\n",
       "      <th>filter</th>\n",
       "      <th>visitExposureTime</th>\n",
       "      <th>seeingFwhmEff</th>\n",
       "      <th>seeingFwhmGeom</th>\n",
       "      <th>fiveSigmaDepth</th>\n",
       "      <th>solarElong</th>\n",
       "      <th>ra</th>\n",
       "      <th>dec</th>\n",
       "    </tr>\n",
       "  </thead>\n",
       "  <tbody>\n",
       "    <tr>\n",
       "      <th>0</th>\n",
       "      <td>59853.016794</td>\n",
       "      <td>1</td>\n",
       "      <td>305.088793</td>\n",
       "      <td>-24.889283</td>\n",
       "      <td>180.000000</td>\n",
       "      <td>z</td>\n",
       "      <td>30.0</td>\n",
       "      <td>0.692029</td>\n",
       "      <td>0.620848</td>\n",
       "      <td>23.348066</td>\n",
       "      <td>113.652908</td>\n",
       "      <td>305.088793</td>\n",
       "      <td>-24.889283</td>\n",
       "    </tr>\n",
       "    <tr>\n",
       "      <th>1</th>\n",
       "      <td>59853.018021</td>\n",
       "      <td>1</td>\n",
       "      <td>304.770694</td>\n",
       "      <td>35.966846</td>\n",
       "      <td>180.786087</td>\n",
       "      <td>z</td>\n",
       "      <td>30.0</td>\n",
       "      <td>1.182104</td>\n",
       "      <td>1.023690</td>\n",
       "      <td>22.308947</td>\n",
       "      <td>113.957998</td>\n",
       "      <td>304.770694</td>\n",
       "      <td>35.966846</td>\n",
       "    </tr>\n",
       "    <tr>\n",
       "      <th>2</th>\n",
       "      <td>59853.020185</td>\n",
       "      <td>1</td>\n",
       "      <td>305.482200</td>\n",
       "      <td>-62.802603</td>\n",
       "      <td>181.134222</td>\n",
       "      <td>z</td>\n",
       "      <td>30.0</td>\n",
       "      <td>0.766303</td>\n",
       "      <td>0.681901</td>\n",
       "      <td>23.178827</td>\n",
       "      <td>99.684211</td>\n",
       "      <td>305.482200</td>\n",
       "      <td>-62.802603</td>\n",
       "    </tr>\n",
       "  </tbody>\n",
       "</table>\n",
       "</div>"
      ],
      "text/plain": [
       "   observationStartMJD  night     fieldRA   fieldDec   rotSkyPos filter  \\\n",
       "0         59853.016794      1  305.088793 -24.889283  180.000000      z   \n",
       "1         59853.018021      1  304.770694  35.966846  180.786087      z   \n",
       "2         59853.020185      1  305.482200 -62.802603  181.134222      z   \n",
       "\n",
       "   visitExposureTime  seeingFwhmEff  seeingFwhmGeom  fiveSigmaDepth  \\\n",
       "0               30.0       0.692029        0.620848       23.348066   \n",
       "1               30.0       1.182104        1.023690       22.308947   \n",
       "2               30.0       0.766303        0.681901       23.178827   \n",
       "\n",
       "   solarElong          ra        dec  \n",
       "0  113.652908  305.088793 -24.889283  \n",
       "1  113.957998  304.770694  35.966846  \n",
       "2   99.684211  305.482200 -62.802603  "
      ]
     },
     "execution_count": 11,
     "metadata": {},
     "output_type": "execute_result"
    }
   ],
   "source": [
    "# Simdata is a numpy recarray - let's just use pandas to make it easier to read here.\n",
    "pd.DataFrame(simdata[0:3])"
   ]
  },
  {
   "cell_type": "markdown",
   "metadata": {},
   "source": [
    "### Generating observations. \n",
    "\n",
    "There is more than one way to actually generate observations, but for now let's look at the linear interpolation approach (what I'd recommend at the moment). This is implemented in the class \"LinearObs\", which provides higher level methods that basically do the following: \n",
    "\n",
    "With LinearObs generating observations for each object goes as follows:  \n",
    "* generate ephemerides between the start and end of the survey data, on stepsizes of tStep (typically, 2 hours)\n",
    "* make linear interpolations between each of these steps, for every parameter returned by the ephemeris generation\n",
    "* calculate the distance between the location of the object and the field pointing, for each observation\n",
    "* if the distance is less than the specified 'rFov': count this observation as \"observed\" (if using the camera footprint, then the detailed camera footprint is overlaid for observations, and only objects which actually lie on active silicon are counted as \"observed\")\n",
    "* for the pointings where the object was observed, then calculate trailing losses and write the output to disk (including a color term, appropriate for the filter of each observation).\n",
    "\n",
    "(Note: there's plenty of room to improve on the procedure above, which could both speed things up and improve accuracy .. if this is something you're interested in contributing to, please consider writing a new Obs class, preferably inheriting from the BaseObs class).\n"
   ]
  },
  {
   "cell_type": "code",
   "execution_count": 12,
   "metadata": {},
   "outputs": [],
   "source": [
    "# Using the \"LinearObs\" class.\n",
    "usecamerafootprint = False\n",
    "if usecamerafootprint:\n",
    "    # Use the actual camera footprint.\n",
    "    cameraFootprint = mo.LsstCameraFootprint()\n",
    "else:\n",
    "    # Or not (just use a circular fov)\n",
    "    cameraFootprint = None\n",
    "rFov = 1.75  # in degrees\n",
    "obscode = 'I11'\n",
    "ephMode = 'nbody' # nbody or 2body\n",
    "obs = mo.LinearObs(cameraFootprint=cameraFootprint, rFov=rFov, obscode=obscode, timescale='TAI', ephMode=ephMode, \n",
    "                   timeCol=colmap['mjd'], seeingCol=colmap['seeingGeom'], visitExpTimeCol=colmap['exptime'])"
   ]
  },
  {
   "cell_type": "code",
   "execution_count": 13,
   "metadata": {},
   "outputs": [
    {
     "data": {
      "text/plain": [
       "{'C.dat': {'g': 0.28041793225569478,\n",
       "  'i': -0.2926196728132453,\n",
       "  'r': -0.177293845688272,\n",
       "  'u': 1.5442111906705982,\n",
       "  'y': -0.3028771664514025,\n",
       "  'z': -0.29808899160965296},\n",
       " 'S.dat': {'g': 0.36850606460945201,\n",
       "  'i': -0.45720772665728049,\n",
       "  'r': -0.26270911487248227,\n",
       "  'u': 1.8626393418302385,\n",
       "  'y': -0.4073469917610737,\n",
       "  'z': -0.39986031775197262}}"
      ]
     },
     "execution_count": 13,
     "metadata": {},
     "output_type": "execute_result"
    }
   ],
   "source": [
    "# Set the orbits.\n",
    "obs.setOrbits(orbits)\n",
    "# Read the filter curves (to calculate the colors for each object)\n",
    "filterlist = np.unique(simdata[colmap['filter']])\n",
    "obs.readFilters(filterlist=filterlist)\n",
    "# Calculate all colors ahead of time - this is just to create a dictionary early.\n",
    "sednames = np.unique(obs.orbits.orbits['sed_filename'])\n",
    "for sedname in sednames:\n",
    "    obs.calcColors(sedname)\n",
    "# Want to see the lsst colors?  (these are all x-V band colors)\n",
    "obs.colors"
   ]
  },
  {
   "cell_type": "code",
   "execution_count": 14,
   "metadata": {},
   "outputs": [
    {
     "name": "stdout",
     "output_type": "stream",
     "text": [
      "Will write output to baseline2018b_mbas_2k_obs.txt\n",
      "Generating ephemerides on a grid of 0.083333 day timesteps, then will extrapolate to opsim times.\n"
     ]
    }
   ],
   "source": [
    "# %%timeit -- a test run of this with 1999 TNOs and 100 nights (63472 visits) from baseline2018b.db == \n",
    "#   11min 36s ± 8.54 s per loop (mean ± std. dev. of 7 runs, 1 loop each)\n",
    "# Generate the actual observations (using the linear interpolations) and write to output file.\n",
    "tstep = 2.0 / 24.0  # tstep in units of days\n",
    "obsFile = '_'.join([opsimrun, orbitfile.replace('.des', '').replace('.s3m', ''), 'obs.txt'])\n",
    "print('Will write output to %s' % obsFile)\n",
    "obs.run(simdata, obsFile, tstep=tstep)"
   ]
  },
  {
   "cell_type": "code",
   "execution_count": 15,
   "metadata": {},
   "outputs": [
    {
     "name": "stdout",
     "output_type": "stream",
     "text": [
      "objId geo_dist ra dec magV dradt ddecdt velocity phase solarelon helio_dist h_lon h_lat true_anomaly time observationStartMJD night fieldRA fieldDec rotSkyPos filter visitExposureTime seeingFwhmEff seeingFwhmGeom fiveSigmaDepth solarElong ra dec magFilter dmagColor dmagTrail dmagDetect \r\n",
      "268898 2.6115829361 81.7129257927 -9.36992344077 26.2106616229 0.0877402892526 -0.122682962422 0.150829284658 18.5076776638 105.578968454 3.03750762386 59.6617104203 -27.5392723243 275.167701363 59854.3893056 59854.3893056 2 82.765139 -9.49079 258.413857923 y 30.0 0.764887329326 0.680737384706 21.947770741 104.790113577 82.765139 -9.49079 25.8033146312 -0.407346991761 0.0234595131402 0.0171995505918 \r\n",
      "268898 2.56282834365 82.0460386645 -9.86121637559 26.156383885 0.0671060946542 -0.124070658177 0.141055864308 18.2377726223 108.419970146 3.03100850426 60.5001988444 -27.4550694163 275.914664777 59858.3709606 59858.3709606 6 82.765139 -9.49079 140.715222226 z 30.0 0.863522533984 0.761815522935 23.1031835023 108.028735762 82.765139 -9.49079 25.7565235672 -0.399860317752 0.0171654761837 0.0120700175623 \r\n"
     ]
    }
   ],
   "source": [
    "# This is what the output file looks like:\n",
    "!head -3 $obsFile"
   ]
  },
  {
   "cell_type": "code",
   "execution_count": null,
   "metadata": {},
   "outputs": [],
   "source": []
  }
 ],
 "metadata": {
  "kernelspec": {
   "display_name": "Python 3",
   "language": "python",
   "name": "python3"
  },
  "language_info": {
   "codemirror_mode": {
    "name": "ipython",
    "version": 3
   },
   "file_extension": ".py",
   "mimetype": "text/x-python",
   "name": "python",
   "nbconvert_exporter": "python",
   "pygments_lexer": "ipython3",
   "version": "3.6.6"
  }
 },
 "nbformat": 4,
 "nbformat_minor": 2
}
