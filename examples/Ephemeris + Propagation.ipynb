{
 "cells": [
  {
   "cell_type": "markdown",
   "metadata": {},
   "source": [
    "### Simple ephemeris generation and orbit propagation with sims_movingObjects (and OOrb's python bindings) ###"
   ]
  },
  {
   "cell_type": "code",
   "execution_count": 1,
   "metadata": {},
   "outputs": [],
   "source": [
    "import os\n",
    "import numpy as np\n",
    "import pandas as pd\n",
    "import matplotlib.pyplot as plt\n",
    "%matplotlib inline\n",
    "\n",
    "from lsst.sims.movingObjects import Orbits\n",
    "from lsst.sims.movingObjects import PyOrbEphemerides"
   ]
  },
  {
   "cell_type": "code",
   "execution_count": 2,
   "metadata": {},
   "outputs": [
    {
     "data": {
      "text/html": [
       "<div>\n",
       "<style scoped>\n",
       "    .dataframe tbody tr th:only-of-type {\n",
       "        vertical-align: middle;\n",
       "    }\n",
       "\n",
       "    .dataframe tbody tr th {\n",
       "        vertical-align: top;\n",
       "    }\n",
       "\n",
       "    .dataframe thead th {\n",
       "        text-align: right;\n",
       "    }\n",
       "</style>\n",
       "<table border=\"1\" class=\"dataframe\">\n",
       "  <thead>\n",
       "    <tr style=\"text-align: right;\">\n",
       "      <th></th>\n",
       "      <th>objId</th>\n",
       "      <th>otype</th>\n",
       "      <th>q</th>\n",
       "      <th>e</th>\n",
       "      <th>inc</th>\n",
       "      <th>Omega</th>\n",
       "      <th>argPeri</th>\n",
       "      <th>tPeri</th>\n",
       "      <th>H</th>\n",
       "      <th>g</th>\n",
       "      <th>epoch</th>\n",
       "      <th>model</th>\n",
       "      <th>sed_filename</th>\n",
       "    </tr>\n",
       "  </thead>\n",
       "  <tbody>\n",
       "    <tr>\n",
       "      <th>0</th>\n",
       "      <td>S1000000</td>\n",
       "      <td>S3M</td>\n",
       "      <td>3.01822</td>\n",
       "      <td>0.05208</td>\n",
       "      <td>22.56035</td>\n",
       "      <td>211.00286</td>\n",
       "      <td>335.42134</td>\n",
       "      <td>57801.64493</td>\n",
       "      <td>14.20</td>\n",
       "      <td>0.15</td>\n",
       "      <td>57231.0</td>\n",
       "      <td>V150728</td>\n",
       "      <td>C.dat</td>\n",
       "    </tr>\n",
       "    <tr>\n",
       "      <th>1</th>\n",
       "      <td>S1000001</td>\n",
       "      <td>S3M</td>\n",
       "      <td>2.10974</td>\n",
       "      <td>0.07518</td>\n",
       "      <td>4.91571</td>\n",
       "      <td>209.40298</td>\n",
       "      <td>322.66447</td>\n",
       "      <td>56722.78779</td>\n",
       "      <td>20.57</td>\n",
       "      <td>0.15</td>\n",
       "      <td>57231.0</td>\n",
       "      <td>V150728</td>\n",
       "      <td>S.dat</td>\n",
       "    </tr>\n",
       "    <tr>\n",
       "      <th>2</th>\n",
       "      <td>S1000002</td>\n",
       "      <td>S3M</td>\n",
       "      <td>2.80523</td>\n",
       "      <td>0.07777</td>\n",
       "      <td>1.24945</td>\n",
       "      <td>112.52284</td>\n",
       "      <td>139.86858</td>\n",
       "      <td>56406.44304</td>\n",
       "      <td>14.65</td>\n",
       "      <td>0.15</td>\n",
       "      <td>57231.0</td>\n",
       "      <td>V150728</td>\n",
       "      <td>S.dat</td>\n",
       "    </tr>\n",
       "  </tbody>\n",
       "</table>\n",
       "</div>"
      ],
      "text/plain": [
       "      objId otype        q        e       inc      Omega    argPeri  \\\n",
       "0  S1000000   S3M  3.01822  0.05208  22.56035  211.00286  335.42134   \n",
       "1  S1000001   S3M  2.10974  0.07518   4.91571  209.40298  322.66447   \n",
       "2  S1000002   S3M  2.80523  0.07777   1.24945  112.52284  139.86858   \n",
       "\n",
       "         tPeri      H     g    epoch    model sed_filename  \n",
       "0  57801.64493  14.20  0.15  57231.0  V150728        C.dat  \n",
       "1  56722.78779  20.57  0.15  57231.0  V150728        S.dat  \n",
       "2  56406.44304  14.65  0.15  57231.0  V150728        S.dat  "
      ]
     },
     "execution_count": 2,
     "metadata": {},
     "output_type": "execute_result"
    }
   ],
   "source": [
    "# Read orbits.\n",
    "orbitfile = 'neos_100.s3m'\n",
    "orbits = Orbits()\n",
    "orbits.readOrbits(orbitfile)\n",
    "## if you have orbits in a dataframe already .. \n",
    "## see also orbits.setOrbits()\n",
    "\n",
    "# See the internal data structure .. (pandas dataframe)\n",
    "orbits.orbits[0:3]"
   ]
  },
  {
   "cell_type": "code",
   "execution_count": 3,
   "metadata": {},
   "outputs": [
    {
     "name": "stdout",
     "output_type": "stream",
     "text": [
      "COM ['objId', 'q', 'e', 'inc', 'Omega', 'argPeri', 'tPeri', 'epoch', 'H', 'g', 'sed_filename']\n",
      "KEP ['objId', 'a', 'e', 'inc', 'Omega', 'argPeri', 'meanAnomaly', 'epoch', 'H', 'g', 'sed_filename']\n",
      "CAR ['objId', 'x', 'y', 'z', 'xdot', 'ydot', 'zdot', 'epoch', 'H', 'g', 'sed_filename']\n"
     ]
    }
   ],
   "source": [
    "# The actual orbits are checked to see if they contain required columns: \n",
    "for orbit_type in orbits.dataCols:\n",
    "    print(orbit_type, orbits.dataCols[orbit_type])"
   ]
  },
  {
   "cell_type": "markdown",
   "metadata": {},
   "source": [
    "Note that all angles should be in degrees and all times should be in MJD. Epochs are assumed to be TT."
   ]
  },
  {
   "cell_type": "markdown",
   "metadata": {},
   "source": [
    "We then use the Orbits to generate ephemerides, using PyOrbEphemerides. \n",
    "\n",
    "The idea is that the Orbits class tracks some requirements about orbital parameters, and adds additional values like the g or sed_filename values (if required), while PyOrbEphemerides provides an easier (and separate) interface to OpenOrb. By keeping PyOrbEphemerides separate, ephemeris generation and propagation could be handled by a different program if desired. "
   ]
  },
  {
   "cell_type": "code",
   "execution_count": 4,
   "metadata": {},
   "outputs": [],
   "source": [
    "# Set up pyoorb interface/object.\n",
    "planetaryEphFile = os.path.join(os.getenv('OORB_DATA'), 'DE430.dat')\n",
    "oorb = PyOrbEphemerides(planetaryEphFile)"
   ]
  },
  {
   "cell_type": "code",
   "execution_count": 5,
   "metadata": {},
   "outputs": [],
   "source": [
    "# Pass the Orbits object to the Oorb object. \n",
    "# Now oorb will keep those orbits internally. \n",
    "# It can transform them to other formats and/or propagate to other epochs.\n",
    "# Internally, it stores them in a different format.\n",
    "oorb.setOrbits(orbits)"
   ]
  },
  {
   "cell_type": "markdown",
   "metadata": {},
   "source": [
    "Example of ephemeris generation."
   ]
  },
  {
   "cell_type": "code",
   "execution_count": 6,
   "metadata": {},
   "outputs": [],
   "source": [
    "# times for ephemerides.\n",
    "tstart = orbits.orbits.epoch.iloc[0] \n",
    "times = np.arange(tstart, tstart + 30, 0.5)"
   ]
  },
  {
   "cell_type": "code",
   "execution_count": 7,
   "metadata": {},
   "outputs": [],
   "source": [
    "ephs = oorb.generateEphemerides(times, obscode='I41', ephMode='nbody', ephType='basic')"
   ]
  },
  {
   "cell_type": "code",
   "execution_count": 8,
   "metadata": {},
   "outputs": [
    {
     "data": {
      "text/plain": [
       "('time',\n",
       " 'ra',\n",
       " 'dec',\n",
       " 'dradt',\n",
       " 'ddecdt',\n",
       " 'phase',\n",
       " 'solarelon',\n",
       " 'helio_dist',\n",
       " 'geo_dist',\n",
       " 'magV',\n",
       " 'trueAnomaly',\n",
       " 'velocity')"
      ]
     },
     "execution_count": 8,
     "metadata": {},
     "output_type": "execute_result"
    }
   ],
   "source": [
    "# Values returned in ephType = basic:\n",
    "ephs.dtype.names"
   ]
  },
  {
   "cell_type": "code",
   "execution_count": 9,
   "metadata": {},
   "outputs": [
    {
     "data": {
      "text/plain": [
       "(100, 60)"
      ]
     },
     "execution_count": 9,
     "metadata": {},
     "output_type": "execute_result"
    }
   ],
   "source": [
    "# Shape of ephemeris array: there were 100 objects, so these are per object, and then per time.\n",
    "ephs.shape"
   ]
  },
  {
   "cell_type": "code",
   "execution_count": 10,
   "metadata": {},
   "outputs": [
    {
     "data": {
      "text/plain": [
       "array([57231. , 57231.5, 57232. , 57232.5, 57233. , 57233.5, 57234. ,\n",
       "       57234.5, 57235. , 57235.5, 57236. , 57236.5, 57237. , 57237.5,\n",
       "       57238. , 57238.5, 57239. , 57239.5, 57240. , 57240.5, 57241. ,\n",
       "       57241.5, 57242. , 57242.5, 57243. , 57243.5, 57244. , 57244.5,\n",
       "       57245. , 57245.5, 57246. , 57246.5, 57247. , 57247.5, 57248. ,\n",
       "       57248.5, 57249. , 57249.5, 57250. , 57250.5, 57251. , 57251.5,\n",
       "       57252. , 57252.5, 57253. , 57253.5, 57254. , 57254.5, 57255. ,\n",
       "       57255.5, 57256. , 57256.5, 57257. , 57257.5, 57258. , 57258.5,\n",
       "       57259. , 57259.5, 57260. , 57260.5])"
      ]
     },
     "execution_count": 10,
     "metadata": {},
     "output_type": "execute_result"
    }
   ],
   "source": [
    "ephs[0]['time']"
   ]
  },
  {
   "cell_type": "code",
   "execution_count": 11,
   "metadata": {},
   "outputs": [],
   "source": [
    "ephs = oorb.generateEphemerides(times, obscode='I41', ephMode='nbody', ephType='full')"
   ]
  },
  {
   "cell_type": "code",
   "execution_count": 12,
   "metadata": {},
   "outputs": [
    {
     "data": {
      "text/plain": [
       "('time',\n",
       " 'ra',\n",
       " 'dec',\n",
       " 'dradt',\n",
       " 'ddecdt',\n",
       " 'phase',\n",
       " 'solarelon',\n",
       " 'helio_dist',\n",
       " 'geo_dist',\n",
       " 'magV',\n",
       " 'pa',\n",
       " 'topo_lon',\n",
       " 'topo_lat',\n",
       " 'opp_topo_lon',\n",
       " 'opp_topo_lat',\n",
       " 'helio_lon',\n",
       " 'helio_lat',\n",
       " 'opp_helio_lon',\n",
       " 'opp_helio_lat',\n",
       " 'topo_obj_alt',\n",
       " 'topo_solar_alt',\n",
       " 'topo_lunar_alt',\n",
       " 'lunar_phase',\n",
       " 'lunar_dist',\n",
       " 'helio_x',\n",
       " 'helio_y',\n",
       " 'helio_z',\n",
       " 'helio_dx',\n",
       " 'helio_dy',\n",
       " 'helio_dz',\n",
       " 'obs_helio_x',\n",
       " 'obs_helio_y',\n",
       " 'obs_helio_z',\n",
       " 'trueAnom',\n",
       " 'velocity')"
      ]
     },
     "execution_count": 12,
     "metadata": {},
     "output_type": "execute_result"
    }
   ],
   "source": [
    "# Values returned with ephtype = full:\n",
    "ephs.dtype.names"
   ]
  },
  {
   "cell_type": "code",
   "execution_count": 13,
   "metadata": {},
   "outputs": [
    {
     "data": {
      "image/png": "[encoded data removed]",
      "text/plain": [
       "<Figure size 432x288 with 1 Axes>"
      ]
     },
     "metadata": {
      "needs_background": "light"
     },
     "output_type": "display_data"
    }
   ],
   "source": [
    "# RA and Dec of all objects at each time:\n",
    "for i in range(len(ephs[0])):\n",
    "    ra = ephs[:,i]['ra']\n",
    "    dec = ephs[:,i]['dec']\n",
    "    plt.plot(ra, dec, marker='.', linestyle='')"
   ]
  },
  {
   "cell_type": "code",
   "execution_count": null,
   "metadata": {},
   "outputs": [],
   "source": []
  }
 ],
 "metadata": {
  "kernelspec": {
   "display_name": "Python 3",
   "language": "python",
   "name": "python3"
  },
  "language_info": {
   "codemirror_mode": {
    "name": "ipython",
    "version": 3
   },
   "file_extension": ".py",
   "mimetype": "text/x-python",
   "name": "python",
   "nbconvert_exporter": "python",
   "pygments_lexer": "ipython3",
   "version": "3.6.7"
  }
 },
 "nbformat": 4,
 "nbformat_minor": 2
}
